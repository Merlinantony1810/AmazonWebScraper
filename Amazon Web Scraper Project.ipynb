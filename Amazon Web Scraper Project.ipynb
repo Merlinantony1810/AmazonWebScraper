{
 "cells": [
  {
   "cell_type": "code",
   "execution_count": 112,
   "id": "01b24645-0619-4570-bf97-f8c2a9890f66",
   "metadata": {},
   "outputs": [],
   "source": [
    "#import libraries\n",
    "\n",
    "from bs4 import BeautifulSoup\n",
    "import requests\n",
    "import smtplib\n",
    "import time\n",
    "import datetime\n",
    "import re"
   ]
  },
  {
   "cell_type": "code",
   "execution_count": 126,
   "id": "8daaa65e-e08b-4977-b747-6846ec655a22",
   "metadata": {},
   "outputs": [
    {
     "name": "stdout",
     "output_type": "stream",
     "text": [
      "Sony PlayStation5 Gaming Console (Slim)\n",
      "54,990.00\n"
     ]
    }
   ],
   "source": [
    "# connect to website\n",
    "\n",
    "URL= 'https://www.amazon.in/Sony-CFI-2008A01X-PlayStation%C2%AE5-Console-slim/dp/B0CY5HVDS2/ref=sr_1_2?dib=eyJ2IjoiMSJ9.pFhgCqcURNHp7Ghh6tpkbnpMS-EPEWOhlo_-YgjavWzPVDP3cbZ_htDlQOXryiI_mbYNFfXQM-8bc9X2VUYr1AnuWXVwetwfwKGTUw8jGPInS5QgvGOiLnf_xhNvWteJ0oFFfId_ueiYR8oN6pHTshEoZMnRDWe03Ktovn8EdR0ULLZvMPALLEFlyLCC0ttfwA4t6FZ121wlaSzUizNpIX0zme39StuiRm_QAYqAU1M.zyO3y9mNUmQM-V0tIs09Tv-CLkSRdBlPJd5QKs2TyBw&dib_tag=se&keywords=ps5&qid=1747555510&sr=8-2'\n",
    "headers= {\"User-Agent\": \"Mozilla/5.0 (Macintosh; Intel Mac OS X 10_15_7) AppleWebKit/537.36 (KHTML, like Gecko) Chrome/136.0.0.0 Safari/537.36\", \"Accept\":\"text/html,application/xhtml+xml,application/xml;q=0.9,*/*;q=0.8\", \"DNT\":\"1\",\"Connection\":\"close\", \"Upgrade-Insecure-Requests\":\"1\"}\n",
    "\n",
    "page= requests.get(URL, headers=headers)\n",
    "\n",
    "soup1= BeautifulSoup(page.content, \"html.parser\")\n",
    "\n",
    "soup2= BeautifulSoup(soup1.prettify(),\"html.parser\")\n",
    "\n",
    "title= soup2.find(id='productTitle').get_text()\n",
    "title=title.strip()\n",
    "\n",
    "raw_price = soup2.find(id='corePriceDisplay_desktop_feature_div').get_text()\n",
    "\n",
    "# Clean up the data a little bit\n",
    "\n",
    "import re\n",
    "match = re.search(r'\\d{1,3}(?:,\\d{2,3})+(?:\\.\\d{2})?', raw_price)\n",
    "price = match.group() if match else \"Price not found\"\n",
    "\n",
    "\n",
    "# print title and price\n",
    "\n",
    "print(title)\n",
    "print(price)\n",
    "\n",
    "\n",
    "\n",
    "\n",
    "\n",
    "\n",
    "\n"
   ]
  },
  {
   "cell_type": "code",
   "execution_count": 134,
   "id": "80f957d0-b6fb-44a0-b37a-f49e57674169",
   "metadata": {},
   "outputs": [
    {
     "name": "stdout",
     "output_type": "stream",
     "text": [
      "2025-05-18\n"
     ]
    }
   ],
   "source": [
    "# importing date\n",
    "import datetime as dt\n",
    "today=dt.date.today()\n",
    "print(today)"
   ]
  },
  {
   "cell_type": "code",
   "execution_count": 136,
   "id": "e66e9717-dd7f-47b2-995d-d3f6285e17ec",
   "metadata": {},
   "outputs": [],
   "source": [
    "import csv\n",
    "header= ['Title','Price','Date']\n",
    "data= [title,price,today]\n",
    "\n",
    "#creating a csv file\n",
    "\n",
    "with open('AmazonWebScraperDataset.csv','w',newline='',encoding='UTF8')as f:\n",
    "    writer=csv.writer(f)\n",
    "    writer.writerow(header)\n",
    "    writer.writerow(data)"
   ]
  },
  {
   "cell_type": "code",
   "execution_count": 138,
   "id": "06b7a828-b0c7-470a-86da-9911817bf82d",
   "metadata": {},
   "outputs": [
    {
     "name": "stdout",
     "output_type": "stream",
     "text": [
      "                                     Title      Price        Date\n",
      "0  Sony PlayStation5 Gaming Console (Slim)  54,990.00  2025-05-18\n"
     ]
    }
   ],
   "source": [
    "import pandas as pd\n",
    "#importing the csv file\n",
    "df=pd.read_csv(\"/Users/micv18/AmazonWebScraperDataset.csv\")\n",
    "print(df)"
   ]
  },
  {
   "cell_type": "code",
   "execution_count": null,
   "id": "9126cbab-208a-409e-8760-d12dafac42f1",
   "metadata": {},
   "outputs": [],
   "source": [
    "#Appending data into the csv\n",
    "with open('AmazonWebScraperDataset.csv','a+',newline='',encoding='UTF8')as f:\n",
    "    writer=csv.writer(f)\n",
    "    writer.writerow(data)"
   ]
  },
  {
   "cell_type": "code",
   "execution_count": null,
   "id": "f8474b9f-ce7e-431c-b42f-acacc644bfb2",
   "metadata": {},
   "outputs": [],
   "source": [
    "def check_price()\n",
    "    URL= 'https://www.amazon.in/Sony-CFI-2008A01X-PlayStation%C2%AE5-Console-slim/dp/B0CY5HVDS2/ref=sr_1_2?dib=eyJ2IjoiMSJ9.pFhgCqcURNHp7Ghh6tpkbnpMS-EPEWOhlo_-YgjavWzPVDP3cbZ_htDlQOXryiI_mbYNFfXQM-8bc9X2VUYr1AnuWXVwetwfwKGTUw8jGPInS5QgvGOiLnf_xhNvWteJ0oFFfId_ueiYR8oN6pHTshEoZMnRDWe03Ktovn8EdR0ULLZvMPALLEFlyLCC0ttfwA4t6FZ121wlaSzUizNpIX0zme39StuiRm_QAYqAU1M.zyO3y9mNUmQM-V0tIs09Tv-CLkSRdBlPJd5QKs2TyBw&dib_tag=se&keywords=ps5&qid=1747555510&sr=8-2'\n",
    "    headers= {\"User-Agent\": \"Mozilla/5.0 (Macintosh; Intel Mac OS X 10_15_7) AppleWebKit/537.36 (KHTML, like Gecko) Chrome/136.0.0.0 Safari/537.36\", \"Accept\":\"text/html,application/xhtml+xml,application/xml;q=0.9,*/*;q=0.8\", \"DNT\":\"1\",\"Connection\":\"close\", \"Upgrade-Insecure-Requests\":\"1\"}\n",
    "\n",
    "    page= requests.get(URL, headers=headers)\n",
    "\n",
    "    soup1= BeautifulSoup(page.content, \"html.parser\")\n",
    "\n",
    "    soup2= BeautifulSoup(soup1.prettify(),\"html.parser\")\n",
    "\n",
    "    title= soup2.find(id='productTitle').get_text()\n",
    "    \n",
    "    title=title.strip()\n",
    "\n",
    "    raw_price = soup2.find(id='corePriceDisplay_desktop_feature_div').get_text()\n",
    "\n",
    "    # Clean up the data \n",
    "\n",
    "    import re\n",
    "    match = re.search(r'\\d{1,3}(?:,\\d{2,3})+(?:\\.\\d{2})?', raw_price)\n",
    "    price = match.group() if match else \"Price not found\"\n",
    "\n",
    "    # importing current date\n",
    "    import datetime as dt\n",
    "    today=dt.date.today()\n",
    "    print(today)\n",
    "\n",
    "    import csv\n",
    "    header= ['Title','Price','Date']\n",
    "    data= [title,price,today]\n",
    "\n",
    "    with open('AmazonWebScraperDataset.csv','a+',newline='',encoding='UTF8')as f:\n",
    "        writer=csv.writer(f)\n",
    "        writer.writerow(data)\n",
    "        \n",
    "    if(price<50000.00):\n",
    "        send_mail()\n"
   ]
  },
  {
   "cell_type": "code",
   "execution_count": null,
   "id": "55e11acf-91d3-4986-ba1a-7b2dc48f278a",
   "metadata": {},
   "outputs": [],
   "source": [
    "# Runs check_price after a set time and inputs data into your CSV\n",
    "while(True):\n",
    "    check_price()\n",
    "    time.sleep(604800) #every week"
   ]
  },
  {
   "cell_type": "code",
   "execution_count": null,
   "id": "cc6e87bb-6d79-4114-a09e-85a9567f1444",
   "metadata": {},
   "outputs": [],
   "source": [
    "import pandas as pd\n",
    "#importing the csv file\n",
    "df=pd.read_csv(\"/Users/micv18/AmazonWebScraperDataset.csv\")\n",
    "print(df)"
   ]
  },
  {
   "cell_type": "code",
   "execution_count": null,
   "id": "be7cd1f8-83dd-415c-b100-c2223941decd",
   "metadata": {},
   "outputs": [],
   "source": [
    "def send_mail():\n",
    "    server = smtplib.SMTP_SSL('smtp.gmail.com',465)\n",
    "    server.ehlo()\n",
    "    #server.starttls()\n",
    "    server.ehlo()\n",
    "    server.login('xxxxxxxx@gmail.com','xxxxxxxxxxxxxx')\n",
    "    \n",
    "    subject = \"Your fav PS5 is below 50,000! Now is your chance to buy!\"\n",
    "    body = \"Merlin, This is the moment we have been waiting for. Now is your chance to pick up your PS5. Don't mess it up! Link here:https://www.amazon.in/Sony-CFI-2008A01X-PlayStation%C2%AE5-Console-slim/dp/B0CY5HVDS2/ref=sr_1_2?dib=eyJ2IjoiMSJ9.pFhgCqcURNHp7Ghh6tpkbnpMS-EPEWOhlo_-YgjavWzPVDP3cbZ_htDlQOXryiI_mbYNFfXQM-8bc9X2VUYr1AnuWXVwetwfwKGTUw8jGPInS5QgvGOiLnf_xhNvWteJ0oFFfId_ueiYR8oN6pHTshEoZMnRDWe03Ktovn8EdR0ULLZvMPALLEFlyLCC0ttfwA4t6FZ121wlaSzUizNpIX0zme39StuiRm_QAYqAU1M.zyO3y9mNUmQM-V0tIs09Tv-CLkSRdBlPJd5QKs2TyBw&dib_tag=se&keywords=ps5&qid=1747555510&sr=8-2\"\n",
    "    msg = f\"Subject: {subject}\\n\\n{body}\"\n",
    "    \n",
    "    server.sendmail(\n",
    "        'xxxxxxxxy@gmail.com',\n",
    "        msg\n",
    "     \n",
    "    )"
   ]
  }
 ],
 "metadata": {
  "kernelspec": {
   "display_name": "Python [conda env:base] *",
   "language": "python",
   "name": "conda-base-py"
  },
  "language_info": {
   "codemirror_mode": {
    "name": "ipython",
    "version": 3
   },
   "file_extension": ".py",
   "mimetype": "text/x-python",
   "name": "python",
   "nbconvert_exporter": "python",
   "pygments_lexer": "ipython3",
   "version": "3.12.7"
  }
 },
 "nbformat": 4,
 "nbformat_minor": 5
}
